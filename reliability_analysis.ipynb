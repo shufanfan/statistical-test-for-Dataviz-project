{
 "cells": [
  {
   "cell_type": "markdown",
   "id": "3db54c4f",
   "metadata": {},
   "source": [
    "# Cronbach’s Alpha"
   ]
  },
  {
   "cell_type": "code",
   "execution_count": 3,
   "id": "8aa38532",
   "metadata": {},
   "outputs": [],
   "source": [
    "import pingouin as pg\n",
    "from pingouin import cronbach_alpha"
   ]
  },
  {
   "cell_type": "code",
   "execution_count": 4,
   "id": "f559b0db",
   "metadata": {},
   "outputs": [],
   "source": [
    "file_path = \"movie_psychology_cleanedData.xls\"\n",
    "data = pd.read_excel(file_path)"
   ]
  },
  {
   "cell_type": "code",
   "execution_count": 5,
   "id": "8898f07d",
   "metadata": {},
   "outputs": [
    {
     "name": "stdout",
     "output_type": "stream",
     "text": [
      "   user_id  E1  E2  E3  E4  E5  E6  A1  A2  A3  ...  N2  N3  N4  O1  O2  O3  \\\n",
      "0      264   1   1   1   1   1   1   1   1   1  ...   1   1   1   1   1   1   \n",
      "1      262   4   4   4   2   4   4   4   2   4  ...   4   4   4   4   4   4   \n",
      "2      261   1   2   2   3   3   2   5   2   4  ...   2   4   3   2   3   4   \n",
      "3      260   1   4   3   3   3   3   3   3   3  ...   3   3   3   4   2   3   \n",
      "4      259   4   4   2   4   2   2   4   4   2  ...   4   3   3   2   3   4   \n",
      "\n",
      "   O4  gender  Movie_watching_frequency  \\\n",
      "0   1    male      several times a week   \n",
      "1   3    male      several times a week   \n",
      "2   3  female      At least once a week   \n",
      "3   3    male    Less than once a month   \n",
      "4   3  female    Less than once a month   \n",
      "\n",
      "                                      favorite_genre  \n",
      "0  comedy, romance,action,horror,mystery,animatio...  \n",
      "1                               comedy,action,sci-fi  \n",
      "2          comedy, romance,horror,mystery,historical  \n",
      "3                                             comedy  \n",
      "4                      comedy, romance,mystery,drama  \n",
      "\n",
      "[5 rows x 27 columns]\n"
     ]
    }
   ],
   "source": [
    "print(data.head())"
   ]
  },
  {
   "cell_type": "code",
   "execution_count": 6,
   "id": "79bbbf4d",
   "metadata": {},
   "outputs": [],
   "source": [
    "dimensions = {\n",
    "    \"Extraversion\": [\"E1\", \"E2\", \"E3\", \"E4\", \"E5\", \"E6\"],\n",
    "    \"Agreeableness\": [\"A1\", \"A2\", \"A3\", \"A4\"],\n",
    "    \"Conscientiousness\": [\"C1\", \"C2\", \"C3\", \"C4\", \"C5\"],\n",
    "    \"Neuroticism\": [\"N1\", \"N2\", \"N3\", \"N4\"],  \n",
    "    \"Openness\": [\"O1\", \"O2\", \"O3\", \"O4\"]\n",
    "}\n"
   ]
  },
  {
   "cell_type": "code",
   "execution_count": 7,
   "id": "e33abf3a",
   "metadata": {},
   "outputs": [],
   "source": [
    "results = {}\n",
    "for dimension, columns in dimensions.items():\n",
    "    subset = data[columns]\n",
    "    alpha, _ = cronbach_alpha(subset)\n",
    "    results[dimension] = alpha"
   ]
  },
  {
   "cell_type": "code",
   "execution_count": 8,
   "id": "adb46a90",
   "metadata": {},
   "outputs": [
    {
     "name": "stdout",
     "output_type": "stream",
     "text": [
      "Extraversion: Cronbach's Alpha = 0.84\n",
      "Agreeableness: Cronbach's Alpha = 0.40\n",
      "Conscientiousness: Cronbach's Alpha = 0.71\n",
      "Neuroticism: Cronbach's Alpha = 0.80\n",
      "Openness: Cronbach's Alpha = 0.56\n"
     ]
    }
   ],
   "source": [
    "for dimension, alpha in results.items():\n",
    "    print(f\"{dimension}: Cronbach's Alpha = {alpha:.2f}\")"
   ]
  },
  {
   "cell_type": "markdown",
   "id": "bbab42da",
   "metadata": {},
   "source": [
    "#  McDonald’s Omega"
   ]
  },
  {
   "cell_type": "code",
   "execution_count": 11,
   "id": "c6a54431",
   "metadata": {},
   "outputs": [],
   "source": [
    "from semopy import ModelMeans"
   ]
  },
  {
   "cell_type": "code",
   "execution_count": 14,
   "id": "f83b814f",
   "metadata": {},
   "outputs": [],
   "source": [
    "from semopy import Model"
   ]
  },
  {
   "cell_type": "code",
   "execution_count": 16,
   "id": "42253f7b",
   "metadata": {
    "scrolled": true
   },
   "outputs": [
    {
     "name": "stdout",
     "output_type": "stream",
     "text": [
      "Extraversion: McDonald's Omega = 0.91\n",
      "Agreeableness: McDonald's Omega = 1.00\n",
      "Conscientiousness: McDonald's Omega = 0.97\n",
      "Neuroticism: McDonald's Omega = 0.91\n",
      "Openness: McDonald's Omega = 0.89\n"
     ]
    }
   ],
   "source": [
    "# 定义函数：计算 McDonald's Omega\n",
    "def calculate_omega(dim_name, questions):\n",
    "    # 构造单因子模型描述\n",
    "    model_desc = f\"{dim_name} =~ \" + \" + \".join(questions)\n",
    "    \n",
    "    # 初始化模型\n",
    "    model = Model(model_desc)\n",
    "    \n",
    "    try:\n",
    "        # 拟合模型\n",
    "        result = model.fit(data[questions])\n",
    "        \n",
    "        # 提取因子负荷量和误差方差\n",
    "        params = model.inspect()  # 提取所有参数\n",
    "        loadings = params.loc[params['op'] == '~', 'Estimate']  # 因子负荷量\n",
    "        error_var = params.loc[params['op'] == '~~', 'Estimate']  # 误差方差\n",
    "        \n",
    "        # 计算 Omega\n",
    "        lambda_sum = loadings.sum()\n",
    "        psi_sum = error_var.sum()\n",
    "        omega = (lambda_sum ** 2) / ((lambda_sum ** 2) + psi_sum)\n",
    "        \n",
    "        return omega\n",
    "    except Exception as e:\n",
    "        # 捕捉可能的错误（如数据问题或维度问题）\n",
    "        print(f\"Error calculating Omega for {dim_name}: {e}\")\n",
    "        return None\n",
    "\n",
    "# 对每个维度进行 McDonald's Omega 检测\n",
    "omega_results = {}\n",
    "for dim_name, questions in dimensions.items():\n",
    "    omega_results[dim_name] = calculate_omega(dim_name, questions)\n",
    "\n",
    "# 输出结果\n",
    "for dim, omega_value in omega_results.items():\n",
    "    if omega_value is not None:\n",
    "        print(f\"{dim}: McDonald's Omega = {omega_value:.2f}\")\n",
    "    else:\n",
    "        print(f\"{dim}: Unable to calculate Omega.\")"
   ]
  },
  {
   "cell_type": "markdown",
   "id": "23d37640",
   "metadata": {},
   "source": [
    "# Correlation Matrix"
   ]
  },
  {
   "cell_type": "code",
   "execution_count": 17,
   "id": "fb02fc97",
   "metadata": {},
   "outputs": [
    {
     "name": "stdout",
     "output_type": "stream",
     "text": [
      "Openness Correlation Matrix:\n",
      "          O1        O2        O3        O4\n",
      "O1  1.000000  0.185800  0.267963  0.142308\n",
      "O2  0.185800  1.000000  0.261464  0.335550\n",
      "O3  0.267963  0.261464  1.000000  0.260953\n",
      "O4  0.142308  0.335550  0.260953  1.000000\n"
     ]
    }
   ],
   "source": [
    "correlation_matrix = data[dimensions[\"Openness\"]].corr()\n",
    "print(\"Openness Correlation Matrix:\")\n",
    "print(correlation_matrix)"
   ]
  },
  {
   "cell_type": "code",
   "execution_count": 18,
   "id": "03b6fc75",
   "metadata": {},
   "outputs": [
    {
     "name": "stdout",
     "output_type": "stream",
     "text": [
      "Agreeableness Correlation Matrix:\n",
      "          A1        A2        A3        A4\n",
      "A1  1.000000  0.107468  0.074938  0.027389\n",
      "A2  0.107468  1.000000  0.178421  0.051434\n",
      "A3  0.074938  0.178421  1.000000  0.376487\n",
      "A4  0.027389  0.051434  0.376487  1.000000\n"
     ]
    }
   ],
   "source": [
    "correlation_matrix = data[dimensions[\"Agreeableness\"]].corr()\n",
    "print(\"Agreeableness Correlation Matrix:\")\n",
    "print(correlation_matrix)"
   ]
  },
  {
   "cell_type": "code",
   "execution_count": 2,
   "id": "65a34d65",
   "metadata": {
    "scrolled": true
   },
   "outputs": [
    {
     "name": "stdout",
     "output_type": "stream",
     "text": [
      "Collecting pingouin\n",
      "  Obtaining dependency information for pingouin from https://files.pythonhosted.org/packages/eb/56/6d3607f3a78aee1de8e5466f5171722c8e344266a12dc44ccb73d024b3b3/pingouin-0.5.5-py3-none-any.whl.metadata\n",
      "  Downloading pingouin-0.5.5-py3-none-any.whl.metadata (19 kB)\n",
      "Requirement already satisfied: matplotlib in /Users/shufanfan/opt/anaconda3/lib/python3.9/site-packages (from pingouin) (3.7.2)\n",
      "Requirement already satisfied: numpy in /Users/shufanfan/opt/anaconda3/lib/python3.9/site-packages (from pingouin) (1.24.3)\n",
      "Requirement already satisfied: pandas>=1.5 in /Users/shufanfan/opt/anaconda3/lib/python3.9/site-packages (from pingouin) (2.0.3)\n",
      "Collecting pandas-flavor (from pingouin)\n",
      "  Obtaining dependency information for pandas-flavor from https://files.pythonhosted.org/packages/67/1a/bfb5574b215f530c7ac5be684f33d60b299abbebd763c203aa31755f2fb2/pandas_flavor-0.6.0-py3-none-any.whl.metadata\n",
      "  Downloading pandas_flavor-0.6.0-py3-none-any.whl.metadata (6.3 kB)\n",
      "Requirement already satisfied: scikit-learn>=1.2 in /Users/shufanfan/opt/anaconda3/lib/python3.9/site-packages (from pingouin) (1.3.0)\n",
      "Requirement already satisfied: scipy in /Users/shufanfan/opt/anaconda3/lib/python3.9/site-packages (from pingouin) (1.11.1)\n",
      "Requirement already satisfied: seaborn in /Users/shufanfan/opt/anaconda3/lib/python3.9/site-packages (from pingouin) (0.12.2)\n",
      "Requirement already satisfied: statsmodels in /Users/shufanfan/opt/anaconda3/lib/python3.9/site-packages (from pingouin) (0.14.0)\n",
      "Requirement already satisfied: tabulate in /Users/shufanfan/opt/anaconda3/lib/python3.9/site-packages (from pingouin) (0.8.10)\n",
      "Requirement already satisfied: python-dateutil>=2.8.2 in /Users/shufanfan/opt/anaconda3/lib/python3.9/site-packages (from pandas>=1.5->pingouin) (2.8.2)\n",
      "Requirement already satisfied: pytz>=2020.1 in /Users/shufanfan/opt/anaconda3/lib/python3.9/site-packages (from pandas>=1.5->pingouin) (2023.3.post1)\n",
      "Requirement already satisfied: tzdata>=2022.1 in /Users/shufanfan/opt/anaconda3/lib/python3.9/site-packages (from pandas>=1.5->pingouin) (2023.3)\n",
      "Requirement already satisfied: joblib>=1.1.1 in /Users/shufanfan/opt/anaconda3/lib/python3.9/site-packages (from scikit-learn>=1.2->pingouin) (1.2.0)\n",
      "Requirement already satisfied: threadpoolctl>=2.0.0 in /Users/shufanfan/opt/anaconda3/lib/python3.9/site-packages (from scikit-learn>=1.2->pingouin) (2.2.0)\n",
      "Requirement already satisfied: contourpy>=1.0.1 in /Users/shufanfan/opt/anaconda3/lib/python3.9/site-packages (from matplotlib->pingouin) (1.0.5)\n",
      "Requirement already satisfied: cycler>=0.10 in /Users/shufanfan/opt/anaconda3/lib/python3.9/site-packages (from matplotlib->pingouin) (0.11.0)\n",
      "Requirement already satisfied: fonttools>=4.22.0 in /Users/shufanfan/opt/anaconda3/lib/python3.9/site-packages (from matplotlib->pingouin) (4.25.0)\n",
      "Requirement already satisfied: kiwisolver>=1.0.1 in /Users/shufanfan/opt/anaconda3/lib/python3.9/site-packages (from matplotlib->pingouin) (1.4.4)\n",
      "Requirement already satisfied: packaging>=20.0 in /Users/shufanfan/opt/anaconda3/lib/python3.9/site-packages (from matplotlib->pingouin) (23.1)\n",
      "Requirement already satisfied: pillow>=6.2.0 in /Users/shufanfan/opt/anaconda3/lib/python3.9/site-packages (from matplotlib->pingouin) (9.4.0)\n",
      "Requirement already satisfied: pyparsing<3.1,>=2.3.1 in /Users/shufanfan/opt/anaconda3/lib/python3.9/site-packages (from matplotlib->pingouin) (3.0.9)\n",
      "Requirement already satisfied: importlib-resources>=3.2.0 in /Users/shufanfan/opt/anaconda3/lib/python3.9/site-packages (from matplotlib->pingouin) (5.2.0)\n",
      "Requirement already satisfied: xarray in /Users/shufanfan/opt/anaconda3/lib/python3.9/site-packages (from pandas-flavor->pingouin) (2023.6.0)\n",
      "Requirement already satisfied: patsy>=0.5.2 in /Users/shufanfan/opt/anaconda3/lib/python3.9/site-packages (from statsmodels->pingouin) (0.5.3)\n",
      "Requirement already satisfied: zipp>=3.1.0 in /Users/shufanfan/opt/anaconda3/lib/python3.9/site-packages (from importlib-resources>=3.2.0->matplotlib->pingouin) (3.11.0)\n",
      "Requirement already satisfied: six in /Users/shufanfan/opt/anaconda3/lib/python3.9/site-packages (from patsy>=0.5.2->statsmodels->pingouin) (1.16.0)\n",
      "Downloading pingouin-0.5.5-py3-none-any.whl (204 kB)\n",
      "\u001b[2K   \u001b[90m━━━━━━━━━━━━━━━━━━━━━━━━━━━━━━━━━━━━━━━\u001b[0m \u001b[32m204.4/204.4 kB\u001b[0m \u001b[31m453.1 kB/s\u001b[0m eta \u001b[36m0:00:00\u001b[0ma \u001b[36m0:00:01\u001b[0m\n",
      "\u001b[?25hDownloading pandas_flavor-0.6.0-py3-none-any.whl (7.2 kB)\n",
      "Installing collected packages: pandas-flavor, pingouin\n",
      "Successfully installed pandas-flavor-0.6.0 pingouin-0.5.5\n"
     ]
    }
   ],
   "source": [
    "!pip install pingouin"
   ]
  },
  {
   "cell_type": "code",
   "execution_count": 10,
   "id": "e7a48f3e",
   "metadata": {},
   "outputs": [
    {
     "name": "stdout",
     "output_type": "stream",
     "text": [
      "Collecting semopy\n",
      "  Downloading semopy-2.3.11.tar.gz (1.6 MB)\n",
      "\u001b[2K     \u001b[90m━━━━━━━━━━━━━━━━━━━━━━━━━━━━━━━━━━━━━━━━\u001b[0m \u001b[32m1.6/1.6 MB\u001b[0m \u001b[31m859.9 kB/s\u001b[0m eta \u001b[36m0:00:00\u001b[0m00:01\u001b[0m00:01\u001b[0m\n",
      "\u001b[?25h  Preparing metadata (setup.py) ... \u001b[?25ldone\n",
      "\u001b[?25hRequirement already satisfied: scipy in /Users/shufanfan/opt/anaconda3/lib/python3.9/site-packages (from semopy) (1.11.1)\n",
      "Requirement already satisfied: numpy in /Users/shufanfan/opt/anaconda3/lib/python3.9/site-packages (from semopy) (1.24.3)\n",
      "Requirement already satisfied: pandas in /Users/shufanfan/opt/anaconda3/lib/python3.9/site-packages (from semopy) (2.0.3)\n",
      "Requirement already satisfied: sympy in /Users/shufanfan/opt/anaconda3/lib/python3.9/site-packages (from semopy) (1.11.1)\n",
      "Requirement already satisfied: scikit-learn in /Users/shufanfan/opt/anaconda3/lib/python3.9/site-packages (from semopy) (1.3.0)\n",
      "Requirement already satisfied: statsmodels in /Users/shufanfan/opt/anaconda3/lib/python3.9/site-packages (from semopy) (0.14.0)\n",
      "Collecting numdifftools (from semopy)\n",
      "  Obtaining dependency information for numdifftools from https://files.pythonhosted.org/packages/a3/5c/37cd5db8c465db2664b2219410b8bc7743da6edb1b616b5d13008bd7cac2/numdifftools-0.9.41-py2.py3-none-any.whl.metadata\n",
      "  Downloading numdifftools-0.9.41-py2.py3-none-any.whl.metadata (39 kB)\n",
      "Requirement already satisfied: python-dateutil>=2.8.2 in /Users/shufanfan/opt/anaconda3/lib/python3.9/site-packages (from pandas->semopy) (2.8.2)\n",
      "Requirement already satisfied: pytz>=2020.1 in /Users/shufanfan/opt/anaconda3/lib/python3.9/site-packages (from pandas->semopy) (2023.3.post1)\n",
      "Requirement already satisfied: tzdata>=2022.1 in /Users/shufanfan/opt/anaconda3/lib/python3.9/site-packages (from pandas->semopy) (2023.3)\n",
      "Requirement already satisfied: joblib>=1.1.1 in /Users/shufanfan/opt/anaconda3/lib/python3.9/site-packages (from scikit-learn->semopy) (1.2.0)\n",
      "Requirement already satisfied: threadpoolctl>=2.0.0 in /Users/shufanfan/opt/anaconda3/lib/python3.9/site-packages (from scikit-learn->semopy) (2.2.0)\n",
      "Requirement already satisfied: patsy>=0.5.2 in /Users/shufanfan/opt/anaconda3/lib/python3.9/site-packages (from statsmodels->semopy) (0.5.3)\n",
      "Requirement already satisfied: packaging>=21.3 in /Users/shufanfan/opt/anaconda3/lib/python3.9/site-packages (from statsmodels->semopy) (23.1)\n",
      "Requirement already satisfied: mpmath>=0.19 in /Users/shufanfan/opt/anaconda3/lib/python3.9/site-packages (from sympy->semopy) (1.3.0)\n",
      "Requirement already satisfied: six in /Users/shufanfan/opt/anaconda3/lib/python3.9/site-packages (from patsy>=0.5.2->statsmodels->semopy) (1.16.0)\n",
      "Downloading numdifftools-0.9.41-py2.py3-none-any.whl (100 kB)\n",
      "\u001b[2K   \u001b[90m━━━━━━━━━━━━━━━━━━━━━━━━━━━━━━━━━━━━━━━\u001b[0m \u001b[32m100.2/100.2 kB\u001b[0m \u001b[31m536.3 kB/s\u001b[0m eta \u001b[36m0:00:00\u001b[0ma \u001b[36m0:00:01\u001b[0m\n",
      "\u001b[?25hBuilding wheels for collected packages: semopy\n",
      "  Building wheel for semopy (setup.py) ... \u001b[?25ldone\n",
      "\u001b[?25h  Created wheel for semopy: filename=semopy-2.3.11-py3-none-any.whl size=1659681 sha256=9247e694f923f0515e296f0d150f2dda2d2aa073b796b8477b7f6a7c4e3f0bfc\n",
      "  Stored in directory: /Users/shufanfan/Library/Caches/pip/wheels/04/ff/18/abad931a60dba4c2a85ac19cea16c06c6eaf887e14f9226045\n",
      "Successfully built semopy\n",
      "Installing collected packages: numdifftools, semopy\n",
      "Successfully installed numdifftools-0.9.41 semopy-2.3.11\n"
     ]
    }
   ],
   "source": [
    "!pip install semopy"
   ]
  },
  {
   "cell_type": "code",
   "execution_count": null,
   "id": "398f2f85",
   "metadata": {},
   "outputs": [],
   "source": []
  }
 ],
 "metadata": {
  "kernelspec": {
   "display_name": "Python 3 (ipykernel)",
   "language": "python",
   "name": "python3"
  },
  "language_info": {
   "codemirror_mode": {
    "name": "ipython",
    "version": 3
   },
   "file_extension": ".py",
   "mimetype": "text/x-python",
   "name": "python",
   "nbconvert_exporter": "python",
   "pygments_lexer": "ipython3",
   "version": "3.9.18"
  }
 },
 "nbformat": 4,
 "nbformat_minor": 5
}
